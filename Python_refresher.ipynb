{
  "nbformat": 4,
  "nbformat_minor": 0,
  "metadata": {
    "colab": {
      "provenance": [],
      "authorship_tag": "ABX9TyPwCYSOhfUPiATytDi2kxaH",
      "include_colab_link": true
    },
    "kernelspec": {
      "name": "python3",
      "display_name": "Python 3"
    },
    "language_info": {
      "name": "python"
    }
  },
  "cells": [
    {
      "cell_type": "markdown",
      "metadata": {
        "id": "view-in-github",
        "colab_type": "text"
      },
      "source": [
        "<a href=\"https://colab.research.google.com/github/Lewa2024/AI-Coursework-2025/blob/main/Python_refresher.ipynb\" target=\"_parent\"><img src=\"https://colab.research.google.com/assets/colab-badge.svg\" alt=\"Open In Colab\"/></a>"
      ]
    },
    {
      "cell_type": "code",
      "execution_count": 1,
      "metadata": {
        "colab": {
          "base_uri": "https://localhost:8080/"
        },
        "id": "oLWaF7X1LsWi",
        "outputId": "677cf2ed-c457-47a0-e4c5-8b81c37f4eb1"
      },
      "outputs": [
        {
          "output_type": "stream",
          "name": "stdout",
          "text": [
            "Enter the number of days:3\n",
            "The number of seconds in 3 days is: 259200\n"
          ]
        }
      ],
      "source": [
        "# AI ASSIGNMENT\n",
        "# PRACTICAL EXERCISE 1\n",
        "\n",
        "#QUESTION 1\n",
        "\n",
        "days = int(input(\"Enter the number of days:\"))\n",
        "seconds = days * 24 * 60 * 60\n",
        "print(\"The number of seconds in\", days, \"days is:\", seconds)\n",
        "\n"
      ]
    },
    {
      "cell_type": "code",
      "source": [
        "# QUESTION 2\n",
        "radius = float(input(\"Enter radius of sphere: \"))\n",
        "volume = (4/3) * 3.14 * (radius ** 3)\n",
        "print(\"The volume of sphere is:\", volume)"
      ],
      "metadata": {
        "colab": {
          "base_uri": "https://localhost:8080/"
        },
        "id": "TF8dcEF3XqP7",
        "outputId": "e3c44911-f0ee-448a-ecf9-70fc3935c4d9"
      },
      "execution_count": 3,
      "outputs": [
        {
          "output_type": "stream",
          "name": "stdout",
          "text": [
            "Enter radius of sphere: 6\n",
            "The volume of sphere is: 904.3199999999999\n"
          ]
        }
      ]
    },
    {
      "cell_type": "code",
      "source": [
        "#QUESTION 3\n",
        "def area (side):\n",
        "  return side ** 2\n",
        "\n",
        "def perimeter(side):\n",
        "  return 4 * side\n",
        "\n",
        "side_length = float(input(\"Enter the side length of the square: \"))\n",
        "square_area = area(side_length)\n",
        "square_perimeter = perimeter(side_length)\n",
        "\n",
        "print(\"The area of the square is:\", square_area)\n",
        "print(\"The perimeter of the square is:\", square_perimeter)"
      ],
      "metadata": {
        "colab": {
          "base_uri": "https://localhost:8080/"
        },
        "id": "WdSz5PMqZMYt",
        "outputId": "e2cffc7d-be6f-4d78-b54c-7d9cb24b1cbd"
      },
      "execution_count": 7,
      "outputs": [
        {
          "output_type": "stream",
          "name": "stdout",
          "text": [
            "Enter the side length of the square: 5\n",
            "The area of the square is: 25.0\n",
            "The perimeter of the square is: 20.0\n"
          ]
        }
      ]
    },
    {
      "cell_type": "code",
      "source": [
        "#QUESTION 4\n",
        "def check_case(char):\n",
        "  if char.isupper():\n",
        "    return \"Uppercase\"\n",
        "  elif char.islower():\n",
        "    return \"Lowercase\"\n",
        "  else:\n",
        "    return \"Neither uppercase nor lowercase\"\n",
        "\n",
        "character = input(\"Enter a character:\")\n",
        "result = check_case(character)\n",
        "print(\"The character is:\", result)"
      ],
      "metadata": {
        "colab": {
          "base_uri": "https://localhost:8080/"
        },
        "id": "XJQSmv4-aFuh",
        "outputId": "b14e7f2e-3cdf-4291-99e5-5c56f3514aa2"
      },
      "execution_count": 10,
      "outputs": [
        {
          "output_type": "stream",
          "name": "stdout",
          "text": [
            "Enter a character:3\n",
            "The character is: Neither uppercase nor lowercase\n"
          ]
        }
      ]
    },
    {
      "cell_type": "code",
      "source": [
        "#QUESTION 5\n",
        "x = 0\n",
        "y = 20\n",
        "\n",
        "while y>=6:\n",
        "  y = y-4\n",
        "  x = x + (2 / y)\n",
        "\n",
        "  print(\"Final value of x:\", x)"
      ],
      "metadata": {
        "colab": {
          "base_uri": "https://localhost:8080/"
        },
        "id": "yWJA0bfoakUB",
        "outputId": "e057be17-fd79-4a81-e1ce-fa946a9a34df"
      },
      "execution_count": 12,
      "outputs": [
        {
          "output_type": "stream",
          "name": "stdout",
          "text": [
            "Final value of x: 0.125\n",
            "Final value of x: 0.29166666666666663\n",
            "Final value of x: 0.5416666666666666\n",
            "Final value of x: 1.0416666666666665\n"
          ]
        }
      ]
    },
    {
      "cell_type": "code",
      "source": [
        "#QUESTION 5\n",
        "values = []\n",
        "\n",
        "for i in range (5):\n",
        "  num = float(input(f\"Enter value {i+1}: \"))\n",
        "  values.append(num)\n",
        "\n",
        "average = sum(values) / len(values)\n",
        "print(\"Average of the values:\", average)"
      ],
      "metadata": {
        "colab": {
          "base_uri": "https://localhost:8080/"
        },
        "id": "vFnRxTcMbMHn",
        "outputId": "31f592a7-6d03-4d46-8dde-4a9eb38aed7a"
      },
      "execution_count": 13,
      "outputs": [
        {
          "output_type": "stream",
          "name": "stdout",
          "text": [
            "Enter value 1: 5\n",
            "Enter value 2: 6\n",
            "Enter value 3: 8\n",
            "Enter value 4: 9\n",
            "Enter value 5: 3\n",
            "Average of the values: 6.2\n"
          ]
        }
      ]
    },
    {
      "cell_type": "code",
      "source": [
        "#QUESTION 7\n",
        "from Ipython.display import Image\n",
        "\n",
        "Image('/content/drive/MyDrive/Question7.png')\n"
      ],
      "metadata": {
        "colab": {
          "base_uri": "https://localhost:8080/",
          "height": 366
        },
        "collapsed": true,
        "id": "vbMKUWYHb89n",
        "outputId": "0a8e914d-e9f4-418a-fa4d-a23e66c9b3ba"
      },
      "execution_count": 3,
      "outputs": [
        {
          "output_type": "error",
          "ename": "ModuleNotFoundError",
          "evalue": "No module named 'Ipython'",
          "traceback": [
            "\u001b[0;31m---------------------------------------------------------------------------\u001b[0m",
            "\u001b[0;31mModuleNotFoundError\u001b[0m                       Traceback (most recent call last)",
            "\u001b[0;32m/tmp/ipython-input-171951482.py\u001b[0m in \u001b[0;36m<cell line: 0>\u001b[0;34m()\u001b[0m\n\u001b[1;32m      1\u001b[0m \u001b[0;31m#QUESTION 7\u001b[0m\u001b[0;34m\u001b[0m\u001b[0;34m\u001b[0m\u001b[0m\n\u001b[0;32m----> 2\u001b[0;31m \u001b[0;32mfrom\u001b[0m \u001b[0mIpython\u001b[0m\u001b[0;34m.\u001b[0m\u001b[0mdisplay\u001b[0m \u001b[0;32mimport\u001b[0m \u001b[0mImage\u001b[0m\u001b[0;34m\u001b[0m\u001b[0;34m\u001b[0m\u001b[0m\n\u001b[0m\u001b[1;32m      3\u001b[0m \u001b[0;34m\u001b[0m\u001b[0m\n\u001b[1;32m      4\u001b[0m \u001b[0mImage\u001b[0m\u001b[0;34m(\u001b[0m\u001b[0;34m'/content/drive/MyDrive/Question7.png'\u001b[0m\u001b[0;34m)\u001b[0m\u001b[0;34m\u001b[0m\u001b[0;34m\u001b[0m\u001b[0m\n",
            "\u001b[0;31mModuleNotFoundError\u001b[0m: No module named 'Ipython'",
            "",
            "\u001b[0;31m---------------------------------------------------------------------------\u001b[0;32m\nNOTE: If your import is failing due to a missing package, you can\nmanually install dependencies using either !pip or !apt.\n\nTo view examples of installing some common dependencies, click the\n\"Open Examples\" button below.\n\u001b[0;31m---------------------------------------------------------------------------\u001b[0m\n"
          ],
          "errorDetails": {
            "actions": [
              {
                "action": "open_url",
                "actionText": "Open Examples",
                "url": "/notebooks/snippets/importing_libraries.ipynb"
              }
            ]
          }
        }
      ]
    }
  ]
}